{
 "cells": [
  {
   "cell_type": "markdown",
   "id": "2fda7503",
   "metadata": {},
   "source": [
    "# RareSkills Zero Knowledge Week 1\n",
    "\n",
    "\n",
    "## Modular arithmetic essentials\n",
    "### Benchmarks\n",
    "Here is how you do modular arithmetic in python. Run the two cells below and note how different their execution times are. You should use `pow` instead of doing modular arithmetic with the elementary operators."
   ]
  },
  {
   "cell_type": "code",
   "execution_count": 1,
   "id": "6462ce3c",
   "metadata": {},
   "outputs": [
    {
     "name": "stdout",
     "output_type": "stream",
     "text": [
      "calculating 1590868 took 3.23 seconds\n"
     ]
    }
   ],
   "source": [
    "import time\n",
    "\n",
    "s = time.time()\n",
    "ans = 1002583 ** 939001 % 2003951\n",
    "t = time.time()\n",
    "\n",
    "print(\"calculating {} took {:.2f} seconds\".format(ans, t - s))"
   ]
  },
  {
   "cell_type": "code",
   "execution_count": 2,
   "id": "4d6986d8",
   "metadata": {},
   "outputs": [
    {
     "name": "stdout",
     "output_type": "stream",
     "text": [
      "calculating 1590868 operation took 0.00 seconds\n"
     ]
    }
   ],
   "source": [
    "s = time.time()\n",
    "ans = pow(1002583,939001,2003951)\n",
    "t = time.time()\n",
    "\n",
    "print(\"calculating {} operation took {:.2f} seconds\".format(ans, t - s))"
   ]
  },
  {
   "cell_type": "markdown",
   "id": "78efe55b",
   "metadata": {},
   "source": [
    "### Encrypting a number\n",
    "\n",
    "If we start with a generator `g` and raise it to a power `s` mod `n`, then in general we cannot determine `s` even if `g` and `n` are known. This is the discrete logarithm problem.\n",
    "\n",
    "We can say we \"encrypt\" `s` using the scheme\n",
    "\n",
    "$$ E(s) = g^{s} \\pmod n $$\n",
    "\n",
    "But this means we need to choose `g` and `n` carefully. If `g` is 3, `s` is 2, and `n` is a large number, we can intelligently guess what `s` is in this case. We want to pick `g` and `n` such that all members \"wrap around.\" We won't concern ourselves with this here, but you should be aware of it. The other issue is not picking a sufficiently large `n`. "
   ]
  },
  {
   "cell_type": "markdown",
   "id": "583b81c1",
   "metadata": {},
   "source": [
    "### Computing the discrete logarithm\n",
    "If we do `s_p = g^s mod n`, and make `g` and `n` public, then it is infeasible to compute `s`. But this is only true if `n` is sufficiently large.\n",
    "\n",
    "In the following example, we provide `s_p`, `g`, and `n`. Use python to bruteforce the solution to find `s`."
   ]
  },
  {
   "cell_type": "markdown",
   "id": "bc033ace",
   "metadata": {},
   "source": [
    "$$g^{ac} = (g^{a})^{c} \\pmod p$$"
   ]
  },
  {
   "cell_type": "code",
   "execution_count": 4,
   "id": "cb7eb435",
   "metadata": {},
   "outputs": [],
   "source": [
    "n = 9551\n",
    "g = 5\n",
    "encrypted_number = 5666"
   ]
  },
  {
   "cell_type": "markdown",
   "id": "5dfd12b4",
   "metadata": {},
   "source": [
    "<font color='red'>**Assignment 1: Use python to bruteforce the solution to find `s`**</font>"
   ]
  },
  {
   "cell_type": "code",
   "execution_count": 5,
   "id": "d397aa7e",
   "metadata": {},
   "outputs": [],
   "source": [
    "# Your Solution and Answer Here\n",
    "student_solution = 1\n",
    "while encrypted_number != pow(g,student_solution,n):\n",
    "    student_solution += 1"
   ]
  },
  {
   "cell_type": "code",
   "execution_count": 6,
   "id": "8fb84b98",
   "metadata": {},
   "outputs": [
    {
     "name": "stdout",
     "output_type": "stream",
     "text": [
      "student_solution is 2531\n"
     ]
    }
   ],
   "source": [
    "assert pow(g, student_solution, n) == encrypted_number\n",
    "print(\"student_solution is {}\".format(student_solution))"
   ]
  },
  {
   "cell_type": "markdown",
   "id": "adef384e",
   "metadata": {},
   "source": [
    "### Computing the discrete logarithm the smart way\n",
    "The smart way to do optimal algorithms is to [copy and paste from stackoverflow](https://stackoverflow.com/a/58665206/2079806). You do not have to understand how the library works\n",
    "\n",
    "<font color='red'>**Assignment 2: Break the cryptography below and obtain the secret number**</font>"
   ]
  },
  {
   "cell_type": "code",
   "execution_count": 12,
   "id": "d15cb7d8",
   "metadata": {},
   "outputs": [],
   "source": [
    "from sympy.ntheory import discrete_log\n",
    "n = 1000004119\n",
    "g = 5\n",
    "encrypted_number = 767805982"
   ]
  },
  {
   "cell_type": "code",
   "execution_count": 14,
   "id": "62cdb28d",
   "metadata": {},
   "outputs": [],
   "source": [
    "# Your Solution and Answer Here\n",
    "\n",
    "student_solution = discrete_log(n, encrypted_number, g)"
   ]
  },
  {
   "cell_type": "code",
   "execution_count": 15,
   "id": "b042bddd",
   "metadata": {},
   "outputs": [
    {
     "name": "stdout",
     "output_type": "stream",
     "text": [
      "student_solution is 420\n"
     ]
    }
   ],
   "source": [
    "assert pow(g, student_solution, n) == encrypted_number\n",
    "print(\"student_solution is {}\".format(student_solution))"
   ]
  },
  {
   "cell_type": "markdown",
   "id": "f6211e5b",
   "metadata": {},
   "source": [
    "## How Zero Knowledge Addition Works\n",
    "\n",
    "A Zero Knowledge Proof verifies a computation is true without revealing a the inputs to the computation.\n",
    "\n",
    "That is, if a + b = c, then we want a \"trapdoor function\" E(x) such that E(a)■E(b) = E(c) where ■ is the binary operator of the group E(x) is an element of.\n",
    "\n",
    "So to prove a + b = c without revealing a, b, or c, we apply A = E(a), B = E(b), C = E(c) and give (A, B, C) to a verifier.\n",
    "\n",
    "The verifier will then check A ■ B == B.\n",
    "\n",
    "Although they don't know the values A, B, and C \"came from\", they do know the unencrypted values form a valid sum."
   ]
  },
  {
   "cell_type": "markdown",
   "id": "89ac98bb",
   "metadata": {},
   "source": [
    "## Zero Knowledge Addition\n",
    "The following property is very important. It lets us verify the addition of numbers (integers under addition) using another group: $g^x \\pmod p$ under multiplication. Because of the discrete logarithm, we cannot easily go from $g^x \\pmod p$ to recover x.\n",
    "\n",
    "a + b = c is homomorphic to $g^ag^b = g^c \\pmod p$.\n",
    "\n",
    "$$ g^{a}g^{b} = g^{a + b} \\pmod n $$\n",
    "\n",
    "Try a few different values of `a` and `b` yourself to see it in action"
   ]
  },
  {
   "cell_type": "code",
   "execution_count": 18,
   "id": "f8869242",
   "metadata": {},
   "outputs": [
    {
     "name": "stdout",
     "output_type": "stream",
     "text": [
      "False\n"
     ]
    }
   ],
   "source": [
    "g = 5\n",
    "a = 140\n",
    "b = 200\n",
    "n = 1000\n",
    "print(pow(g, a, n) * pow(g, b, n) == pow(g, a + b, n))"
   ]
  },
  {
   "cell_type": "markdown",
   "id": "0545ba6d",
   "metadata": {},
   "source": [
    "Wait what?! That's supposed to be true?\n",
    "\n",
    "<font color='red'>**Assignment 3: The code above has a bug. What is the bug?**</font>"
   ]
  },
  {
   "cell_type": "code",
   "execution_count": 19,
   "id": "bbacb1ae",
   "metadata": {},
   "outputs": [
    {
     "name": "stdout",
     "output_type": "stream",
     "text": [
      "True\n"
     ]
    }
   ],
   "source": [
    "g = 5\n",
    "a = 140\n",
    "b = 200\n",
    "n = 1000\n",
    "print(pow(pow(g, a, n) * pow(g, b, n), 1, n) == pow(g, a + b, n))# Your corrected code here"
   ]
  },
  {
   "cell_type": "markdown",
   "id": "3063b383",
   "metadata": {},
   "source": [
    "## Zero Knowledge Subtraction\n",
    "We can also encrypt the operation a - b. This is the same as \n",
    "\n",
    "$$ g^{a}g^{-b} = g^{a-b} $$\n",
    "\n",
    "But we can't just stick a negative sign in front of the exponent"
   ]
  },
  {
   "cell_type": "code",
   "execution_count": 20,
   "id": "10c8172d",
   "metadata": {},
   "outputs": [
    {
     "data": {
      "text/plain": [
       "1.6619797259514097e-09"
      ]
     },
     "execution_count": 20,
     "metadata": {},
     "output_type": "execute_result"
    }
   ],
   "source": [
    "g = 57\n",
    "n = 101\n",
    "g ** -5 % n"
   ]
  },
  {
   "cell_type": "markdown",
   "id": "80d0eb92",
   "metadata": {},
   "source": [
    "The above is not an integer! However, python is smart enough to know what you are doing if you use `pow`. To test this, we expect\n",
    "\n",
    "$$ g^{-a}g^{a} = 1 $$\n",
    "\n",
    "because g^0 is 1, and `a - a = 0`."
   ]
  },
  {
   "cell_type": "code",
   "execution_count": 21,
   "id": "dde06b67",
   "metadata": {},
   "outputs": [
    {
     "data": {
      "text/plain": [
       "True"
      ]
     },
     "execution_count": 21,
     "metadata": {},
     "output_type": "execute_result"
    }
   ],
   "source": [
    "a = 22\n",
    "pow(g, a, n) * pow(g, -a, n) % n == 1"
   ]
  },
  {
   "cell_type": "markdown",
   "id": "eba6db1a",
   "metadata": {},
   "source": [
    "So what magic is happening behind the scenes? The formula below is used to compute the modular inverse.\n",
    "\n",
    "$$ a^{-1} = a^{n - 2} \\pmod n $$"
   ]
  },
  {
   "cell_type": "code",
   "execution_count": 22,
   "id": "2ea5a6ba",
   "metadata": {},
   "outputs": [
    {
     "data": {
      "text/plain": [
       "True"
      ]
     },
     "execution_count": 22,
     "metadata": {},
     "output_type": "execute_result"
    }
   ],
   "source": [
    "a_inv = a ** (n - 2) % n\n",
    "a_inv * a % n == 1"
   ]
  },
  {
   "cell_type": "markdown",
   "id": "deadcf09",
   "metadata": {},
   "source": [
    "## Multiplication by a constant\n",
    "Multiplication by a constant is really just repeated addition\n",
    "\n",
    "$$ (g^{a})^{4} = g^{a} g^{a} g^{a} g^{a} $$\n",
    "\n",
    "This allows us to \"multiply by a constant\" in a zero knowledge fashion."
   ]
  },
  {
   "cell_type": "code",
   "execution_count": 23,
   "id": "21390185",
   "metadata": {},
   "outputs": [
    {
     "data": {
      "text/plain": [
       "True"
      ]
     },
     "execution_count": 23,
     "metadata": {},
     "output_type": "execute_result"
    }
   ],
   "source": [
    "a = 15\n",
    "pow(g, a, n) * pow(g, a, n) * pow(g, a, n) * pow(g, a, n) % n == pow(g, a * 4, n)"
   ]
  },
  {
   "cell_type": "markdown",
   "id": "d8854703",
   "metadata": {},
   "source": [
    "Of course, it would be annoying to multiply like that if you have a big coefficient, so the following is better"
   ]
  },
  {
   "cell_type": "code",
   "execution_count": 24,
   "id": "9704397d",
   "metadata": {},
   "outputs": [
    {
     "data": {
      "text/plain": [
       "True"
      ]
     },
     "execution_count": 24,
     "metadata": {},
     "output_type": "execute_result"
    }
   ],
   "source": [
    "pow(pow(g, a, n), 4 , n) == pow(g, a * 4, n)"
   ]
  },
  {
   "cell_type": "markdown",
   "id": "37dd20e6",
   "metadata": {},
   "source": [
    "## I know the solution to a systems of equations\n",
    "\n",
    "Now you should be able to prove to me that you know the solution to in a zero knowledge fashion\n",
    "\n",
    "$$\n",
    "2x + 8y = 7944\\\\\n",
    "5x + 3y = 4764\n",
    "$$\n",
    "\n",
    "<font color='red'>**Assignment 4: conver the above equation to a zk proof system where you can prove to a verifier (with an agreed upon g and n) that you know the solution to an agreed upon system of equation, without revealing the solution**</font>\n",
    "\n",
    "Prover:\n",
    "$$\n",
    "Cx = g^{x} \\pmod n\\\\\n",
    "Cy = g^{y} \\pmod n\\\\\n",
    "Cl1 = g^{2x + 8y} \\pmod n\\\\\n",
    "Cr1 = g^{7944} \\pmod n\\\\\n",
    "Cl2 = g^{5x + 3y} \\pmod n\\\\\n",
    "Cr2 = g^{4764} \\pmod n\\\\\n",
    "$$\n",
    "Verifier:\n",
    "$$\n",
    "Cl1 = Cx^{2}*Cy^{8} \\pmod n \\\\\n",
    "$$\n"
   ]
  },
  {
   "cell_type": "code",
   "execution_count": 1,
   "id": "109e3470",
   "metadata": {
    "scrolled": true
   },
   "outputs": [
    {
     "name": "stdout",
     "output_type": "stream",
     "text": [
      "563\n",
      "563\n",
      "563\n"
     ]
    },
    {
     "data": {
      "text/plain": [
       "True"
      ]
     },
     "execution_count": 1,
     "metadata": {},
     "output_type": "execute_result"
    }
   ],
   "source": [
    "g = 2\n",
    "n = 1033\n",
    "x = 420\n",
    "y = 888\n",
    "Cx = pow(g, x, n)\n",
    "Cy = pow(g, y, n)\n",
    "Cr1 = pow(g, 2 * x + 8 * y , n)\n",
    "Cl1 = pow(g, 7944, n)\n",
    "Cx_v = pow(Cx, 2 ,n)\n",
    "Cy_v = pow(Cy, 8, n)\n",
    "verified = pow(Cx_v * Cy_v,1 ,n)\n",
    "# print(pow(Cx, 2 ,n))\n",
    "# print(pow(g, 2 * x ,n))\n",
    "# print(verified)\n",
    "# print(Cr1)\n",
    "# print(Cl1)\n",
    "verified == Cl1"
   ]
  },
  {
   "cell_type": "markdown",
   "id": "0c7a9d38",
   "metadata": {},
   "source": [
    "## Convert a rational number to a finite field element\n",
    "\n",
    "<font color='red'>**Assignment 5: Compute 53/192 + 61/511 (mod 1033) in python. Show your work. You are not required to implement euclid's algorithm. Show it is equal to the original rational number sum: https://www.wolframalpha.com/input?i=53%2F192+%2B+61%2F511**</font>"
   ]
  },
  {
   "cell_type": "code",
   "execution_count": 4,
   "id": "b9567643",
   "metadata": {},
   "outputs": [
    {
     "name": "stdout",
     "output_type": "stream",
     "text": [
      "0.39541544357469016\n"
     ]
    }
   ],
   "source": [
    "a = 53 / 192\n",
    "b = 61 / 511\n",
    "c =38795 / 98112\n",
    "n = 1033\n",
    "print(c)"
   ]
  },
  {
   "cell_type": "code",
   "execution_count": 5,
   "id": "ad9ea620",
   "metadata": {
    "scrolled": true
   },
   "outputs": [
    {
     "name": "stdout",
     "output_type": "stream",
     "text": [
      "0.39541544357469016\n"
     ]
    }
   ],
   "source": [
    "A = a % n\n",
    "B = b % n\n",
    "C = (A+B) % n\n",
    "print(C)"
   ]
  },
  {
   "cell_type": "code",
   "execution_count": 2,
   "id": "ba5c3653",
   "metadata": {},
   "outputs": [
    {
     "name": "stdout",
     "output_type": "stream",
     "text": [
      "(1, 2)\n"
     ]
    }
   ],
   "source": [
    "from py_ecc.bn128 import add, G1\n",
    "print(G1)\n"
   ]
  }
 ],
 "metadata": {
  "kernelspec": {
   "display_name": "Python 3 (ipykernel)",
   "language": "python",
   "name": "python3"
  },
  "language_info": {
   "codemirror_mode": {
    "name": "ipython",
    "version": 3
   },
   "file_extension": ".py",
   "mimetype": "text/x-python",
   "name": "python",
   "nbconvert_exporter": "python",
   "pygments_lexer": "ipython3",
   "version": "3.11.5"
  }
 },
 "nbformat": 4,
 "nbformat_minor": 5
}
