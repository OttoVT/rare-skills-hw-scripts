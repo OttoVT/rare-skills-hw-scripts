{
 "cells": [
  {
   "cell_type": "markdown",
   "id": "2fda7503",
   "metadata": {},
   "source": [
    "# RareSkills Zero Knowledge Week \n",
    "\n",
    "L\\mathbf{\\vec{[s]_1}}\\odot R\\mathbf{\\vec{[s]_2}} = O\\mathbf{\\vec{[s]}_{1}}\\odot\\vec{[G_2]_2}\n"
   ]
  },
  {
   "cell_type": "code",
   "execution_count": null,
   "id": "ba5c3653",
   "metadata": {
    "scrolled": true
   },
   "outputs": [
    {
     "name": "stdout",
     "output_type": "stream",
     "text": [
      "field_modulus: 21888242871839275222246405745257275088696311157297823662689037894645226208583\n"
     ]
    }
   ],
   "source": [
    "from numpy import poly1d\n",
    "from py_ecc.bn128 import G1, G2, pairing, add, multiply, eq, neg, G12\n",
    "import numpy as np\n",
    "from scipy.interpolate import lagrange\n",
    "import galois\n",
    "from py_ecc.fields.field_properties import (\n",
    "    field_properties,\n",
    ")\n",
    "from functools import reduce\n",
    "\n",
    "field_modulus = field_properties[\"bn128\"][\"field_modulus\"]\n",
    "print(f\"field_modulus: {field_modulus}\")\n",
    "\n",
    "GF = galois.GF(field_modulus)\n",
    "print(f\"init!\")\n",
    "# out = x⁴ - 5y²x²\n",
    "# 1, out, x, y, v1, v2, v3\n",
    "L = np.array([\n",
    "    [0, 0, 1, 0, 0, 0, 0],\n",
    "    [0, 0, 0, 0, 1, 0, 0],\n",
    "    [0, 0, 0, field_modulus-5, 0, 0, 0],\n",
    "    [0, 0, 0, 0, 0, 0, 1],\n",
    "])\n",
    "\n",
    "R = np.array([\n",
    "    [0, 0, 1, 0, 0, 0, 0],\n",
    "    [0, 0, 0, 0, 1, 0, 0],\n",
    "    [0, 0, 0, 1, 0, 0, 0],\n",
    "    [0, 0, 0, 0, 1, 0, 0],\n",
    "])\n",
    "\n",
    "O = np.array([\n",
    "    [0, 0, 0, 0, 1, 0, 0],\n",
    "    [0, 0, 0, 0, 0, 1, 0],\n",
    "    [0, 0, 0, 0, 0, 0, 1],\n",
    "    [0, 1, 0, 0, 0, field_modulus-1, 0],\n",
    "])\n",
    "\n",
    "L_galois = GF(L)\n",
    "R_galois = GF(R)\n",
    "O_galois = GF(O)\n",
    "\n",
    "x = GF(4)\n",
    "y = GF(field_modulus-2)\n",
    "v1 = x * x\n",
    "v2 = v1 * v1         # x^4\n",
    "v3 = GF(field_modulus-5)*y * y\n",
    "out = v3*v1 + v2    # -5y^2 * x^2\n",
    "\n",
    "witness = GF(np.array([1, out, x, y, v1, v2, v3]))\n",
    "\n",
    "assert all(np.equal(np.matmul(L_galois, witness) * np.matmul(R_galois, witness), np.matmul(O_galois, witness))), \"not equal\"\n",
    "\n",
    "def interpolate_column(col):\n",
    "    xs = GF(np.array([1,2,3,4]))\n",
    "    return galois.lagrange_poly(xs, col)\n",
    "\n",
    "# axis 0 is the columns. apply_along_axis is the same as doing a for loop over the columns and collecting the results in an array\n",
    "U_polys = np.apply_along_axis(interpolate_column, 0, L_galois)\n",
    "V_polys = np.apply_along_axis(interpolate_column, 0, R_galois)\n",
    "W_polys = np.apply_along_axis(interpolate_column, 0, O_galois)\n",
    "\n",
    "print(U_polys[:2])\n",
    "print(V_polys[:2])\n",
    "print(W_polys[:1])\n",
    "\n",
    "def inner_product_polynomials_with_witness(polys, witness):\n",
    "    mul_ = lambda x, y: x * y\n",
    "    sum_ = lambda x, y: x + y\n",
    "    return reduce(sum_, map(mul_, polys, witness))\n",
    "\n",
    "term_1 = inner_product_polynomials_with_witness(U_polys, witness)\n",
    "term_2 = inner_product_polynomials_with_witness(V_polys, witness)\n",
    "term_3 = inner_product_polynomials_with_witness(W_polys, witness)\n",
    "\n",
    "# t = (x - 1)(x - 2)(x - 3)(x - 4)\n",
    "t = galois.Poly([1, field_modulus-1], field = GF) * galois.Poly([1, field_modulus-2], field = GF) * galois.Poly([1, field_modulus-3], field = GF) * galois.Poly([1, field_modulus-4], field = GF)\n",
    "\n",
    "h = (term_1 * term_2 - term_3) // t\n",
    "\n",
    "assert term_1 * term_2 == term_3 + h * t, \"division has a remainder\"\n"
   ]
  },
  {
   "cell_type": "code",
   "execution_count": null,
   "id": "c8d4be2e-d534-4c55-91f8-3f017999f75f",
   "metadata": {},
   "outputs": [],
   "source": []
  }
 ],
 "metadata": {
  "kernelspec": {
   "display_name": "Python 3 (ipykernel)",
   "language": "python",
   "name": "python3"
  },
  "language_info": {
   "codemirror_mode": {
    "name": "ipython",
    "version": 3
   },
   "file_extension": ".py",
   "mimetype": "text/x-python",
   "name": "python",
   "nbconvert_exporter": "python",
   "pygments_lexer": "ipython3",
   "version": "3.11.5"
  }
 },
 "nbformat": 4,
 "nbformat_minor": 5
}
