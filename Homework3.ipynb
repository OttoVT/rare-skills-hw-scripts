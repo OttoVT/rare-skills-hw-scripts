{
 "cells": [
  {
   "cell_type": "markdown",
   "id": "2fda7503",
   "metadata": {},
   "source": [
    "# RareSkills Zero Knowledge Week 3\n",
    "\n",
    "\n",
    "## Modular arithmetic essentials\n",
    "### Benchmarks\n",
    "\n",
    "8 / 12 + 1/ 12 = 3/4"
   ]
  },
  {
   "cell_type": "code",
   "execution_count": 4,
   "id": "ba5c3653",
   "metadata": {},
   "outputs": [
    {
     "name": "stdout",
     "output_type": "stream",
     "text": [
      "(1, 2)\n",
      "21888242871839275222246405745257275088548364400416034343698204186575808495617\n",
      "(4044475655963335105874705693887717986734082637953872334734275921521622691675, 6961300548333041600164002436990239666696562973977691579804530869930595532137)\n",
      "(15514098174231388526936394909884819852161713760351236454286095935185347406190, 16207293035697985973521572619574413772437159530764812837532719998459133339912)\n"
     ]
    }
   ],
   "source": [
    "from py_ecc.bn128 import add, G1, multiply, curve_order\n",
    "#print(G1)\n",
    "#print(curve_order)\n",
    "num = 3\n",
    "den = 4\n",
    "x_d =pow(12, -1, curve_order)\n",
    "x = pow(8 * x_d, 1, curve_order)\n",
    "res = pow(9* x_d, 1, curve_order)\n",
    "X = multiply(G1, x)\n",
    "Y = multiply(G1, x_d)\n",
    "RES = multiply(G1, res)\n",
    "Left = add(X, Y)\n",
    "print(X)\n",
    "print(Y)\n",
    "#print(Left)\n",
    "#print(RES)"
   ]
  },
  {
   "cell_type": "code",
   "execution_count": 1,
   "id": "44139199",
   "metadata": {},
   "outputs": [
    {
     "name": "stdout",
     "output_type": "stream",
     "text": [
      "(2857625431839718922471812833357737477490018756027287331750692909542658596388, 1911129795864509240059974873783816568594673160967429852131769465429209708149)\n",
      "(15514098174231388526936394909884819852161713760351236454286095935185347406190, 16207293035697985973521572619574413772437159530764812837532719998459133339912)\n"
     ]
    }
   ],
   "source": [
    "from py_ecc.bn128 import add, G1, multiply, curve_order\n",
    "#print(G1)\n",
    "#print(curve_order)\n",
    "num = 3\n",
    "den = 4\n",
    "x_d =pow(12, -1, curve_order)\n",
    "x = pow(9 * x_d, 1, curve_order)\n",
    "res = pow(9* x_d, 1, curve_order)\n",
    "X = multiply(G1, x)\n",
    "Y = multiply(G1, x_d)\n",
    "RES = multiply(G1, res)\n",
    "Left = add(X, Y)\n",
    "print(X)\n",
    "print(Y)\n",
    "#print(Left)\n",
    "#print(RES)"
   ]
  },
  {
   "cell_type": "markdown",
   "id": "c7afa4b0",
   "metadata": {},
   "source": [
    "\n",
    "\\begin{bmatrix}1 & 2 & 3\\\\4 & 5 & 6\\\\7 & 8 & 9\\end{bmatrix}\\begin{bmatrix}P\\\\Q\\\\R\\end{bmatrix}=\\begin{bmatrix}P+2Q+3R\\\\4P+5Q+6R\\\\7P + 8Q + 9R\\end{bmatrix}\n"
   ]
  },
  {
   "cell_type": "code",
   "execution_count": 4,
   "id": "5e4b06e3",
   "metadata": {},
   "outputs": [
    {
     "name": "stdout",
     "output_type": "stream",
     "text": [
      "(17108685722251241369314020928988529881027530433467445791267465866135602972753, 20666112440056908034039013737427066139426903072479162670940363761207457724060)\n",
      "(20453939078259811958859768391452073654460321168773748684493785442363495374770, 9582859829925552874957318860636821932456214701004608986274201852321144884827)\n",
      "(12109125168208163605857260910923713983580584394895257282529162242928595286368, 15968495061591974818369503561669603416490648399745553243439919872679665689139)\n",
      "(9358821320411475700000254387098246091616152844881386078431208822494995307800, 5960839627144408124524040494365538587744524225997207327386457628187898526810)\n",
      "(17747920359253913546551417160303297937542312574889904290131615776238588901697, 8815119438581789680513912776342567599606944899217792926373871775002956510503)\n",
      "(4721275587955687637148377202262741060693761623977928613392944678510495108266, 2642965900986443192374151435528317410538902576886678180169320050919603747299)\n"
     ]
    }
   ],
   "source": [
    "from py_ecc.bn128 import add, G1, multiply, curve_order\n",
    "#print(G1)\n",
    "#print(curve_order)\n",
    "P = multiply(G1, 12)\n",
    "Q = multiply(G1, 24)\n",
    "R = multiply(G1, 36)\n",
    "\n",
    "print(P)\n",
    "print(Q)\n",
    "print(R)\n",
    "\n",
    "R1 = add(P, add(multiply(Q, 2), multiply(R, 3)))\n",
    "R2 = add(multiply(P, 4), add(multiply(Q, 5), multiply(R, 6)))\n",
    "R3 = add(multiply(P, 7), add(multiply(Q, 8), multiply(R, 9)))\n",
    "\n",
    "print(R1)\n",
    "print(R2)\n",
    "print(R3)\n",
    "#print(Left)\n",
    "#print(RES)"
   ]
  },
  {
   "cell_type": "code",
   "execution_count": null,
   "id": "c6a3fbdb",
   "metadata": {},
   "outputs": [],
   "source": []
  }
 ],
 "metadata": {
  "kernelspec": {
   "display_name": "Python 3 (ipykernel)",
   "language": "python",
   "name": "python3"
  },
  "language_info": {
   "codemirror_mode": {
    "name": "ipython",
    "version": 3
   },
   "file_extension": ".py",
   "mimetype": "text/x-python",
   "name": "python",
   "nbconvert_exporter": "python",
   "pygments_lexer": "ipython3",
   "version": "3.11.5"
  }
 },
 "nbformat": 4,
 "nbformat_minor": 5
}
